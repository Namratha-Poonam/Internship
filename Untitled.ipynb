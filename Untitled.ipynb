{
 "cells": [
  {
   "cell_type": "code",
   "execution_count": 13,
   "id": "33ff7c93",
   "metadata": {},
   "outputs": [],
   "source": [
    "def factorial(n):\n",
    "\n",
    "    if n < 0:\n",
    "\n",
    "        return \"Factorial is not defined for negative numbers\"\n",
    "\n",
    "    elif n == 0 or n == 1:\n",
    "\n",
    "        return 1\n",
    "\n",
    "    else:\n",
    "\n",
    "        result = 1\n",
    "\n",
    "        for i in range(2, n + 1):\n",
    "\n",
    "            result *= i\n",
    "\n",
    "        return result"
   ]
  },
  {
   "cell_type": "code",
   "execution_count": 20,
   "id": "677e7e6a",
   "metadata": {},
   "outputs": [
    {
     "ename": "IndentationError",
     "evalue": "expected an indented block after 'if' statement on line 3 (4029103304.py, line 5)",
     "output_type": "error",
     "traceback": [
      "\u001b[1;36m  Cell \u001b[1;32mIn[20], line 5\u001b[1;36m\u001b[0m\n\u001b[1;33m    retrun false\u001b[0m\n\u001b[1;37m    ^\u001b[0m\n\u001b[1;31mIndentationError\u001b[0m\u001b[1;31m:\u001b[0m expected an indented block after 'if' statement on line 3\n"
     ]
    }
   ],
   "source": [
    "def is_prime(n):\n",
    "    \n",
    "    if n <= 1:\n",
    "        \n",
    "    retrun false\n",
    "    \n",
    "    elif n <= 3:\n",
    "        \n",
    "        return true\n",
    "    \n",
    "    elif n % 2 == 0 or n % 3 == 0:\n",
    "        \n",
    "        return false\n",
    "    \n",
    "    i = 5\n",
    "    \n",
    "    while i * i < = n\n",
    "    \n",
    "    if n % i == 0 or n % (i + 2) == 0:\n",
    "        \n",
    "        return false\n",
    "    \n",
    "    i + = 6\n",
    "    \n",
    "    return true\n",
    "\n",
    "def prime_or_composite(n):\n",
    "    \n",
    "    if n <= 1:\n",
    "        return \"Neither prime nor composite\"\n",
    "    \n",
    "    elif is_prime(n):\n",
    "        \n",
    "        return \"Prime\"\n",
    "    else:\n",
    "        return \"Composite\"\n",
    "\n",
    "# Test the function\n",
    "number = 29\n",
    "print(f\"{number} is {prime_or_composite(number)}\")"
   ]
  },
  {
   "cell_type": "code",
   "execution_count": 24,
   "id": "9a3abb16",
   "metadata": {},
   "outputs": [
    {
     "ename": "SyntaxError",
     "evalue": "invalid non-printable character U+202F (2776324343.py, line 1)",
     "output_type": "error",
     "traceback": [
      "\u001b[1;36m  Cell \u001b[1;32mIn[24], line 1\u001b[1;36m\u001b[0m\n\u001b[1;33m    def isPalindrome(string):\u001b[0m\n\u001b[1;37m       ^\u001b[0m\n\u001b[1;31mSyntaxError\u001b[0m\u001b[1;31m:\u001b[0m invalid non-printable character U+202F\n"
     ]
    }
   ],
   "source": [
    "def isPalindrome(string): \n",
    "    if (string == string[::-1]) : \n",
    "        return \"The string is a palindrome.\" \n",
    "    else: \n",
    "        return \"The string is not a palindrome.\" \n",
    " \n",
    "# Enter input string \n",
    "string = input (\"Enter string:1\") \n",
    " \n",
    "print(isPalindrome(string)"
   ]
  },
  {
   "cell_type": "code",
   "execution_count": null,
   "id": "2f2d1620",
   "metadata": {},
   "outputs": [],
   "source": []
  }
 ],
 "metadata": {
  "kernelspec": {
   "display_name": "Python 3 (ipykernel)",
   "language": "python",
   "name": "python3"
  },
  "language_info": {
   "codemirror_mode": {
    "name": "ipython",
    "version": 3
   },
   "file_extension": ".py",
   "mimetype": "text/x-python",
   "name": "python",
   "nbconvert_exporter": "python",
   "pygments_lexer": "ipython3",
   "version": "3.11.5"
  }
 },
 "nbformat": 4,
 "nbformat_minor": 5
}
